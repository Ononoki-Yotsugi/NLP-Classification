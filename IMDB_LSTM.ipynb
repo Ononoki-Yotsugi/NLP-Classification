{
 "cells": [
  {
   "cell_type": "markdown",
   "metadata": {
    "id": "9K3I2xacXWqq"
   },
   "source": [
    "# LSTM on IMDB Sentiment Analysis\n",
    "\n",
    "这个文件在IMDB上进行情感分类，练习torchtext等的使用，熟悉训练流程，并测试以下模型的表现：\n",
    "\n",
    "* LSTM\n",
    "\n",
    "目前的进度：\n",
    "\n",
    "* 完成，效果不佳\n",
    "\n",
    "问题：\n",
    "\n",
    "* 迭代器并没有shuffle?\n",
    "* torchtext怎么使用预训练词向量？\n",
    "* RNN训练时要使用packandpad吗？还是仅仅pad就行？使用了之后还需要让长度相近的在一起pad吗？\n",
    "* 后续使用BERT可能要用transformer或者allennlp？\n",
    "\n",
    "参考：\n",
    "* [torchtext使用--简单的IMDB情感分类](https://blog.csdn.net/weixin_43301333/article/details/105744602)"
   ]
  },
  {
   "cell_type": "markdown",
   "metadata": {
    "id": "atw_K4Opf9p-"
   },
   "source": [
    "## Requirement\n",
    "* spacy==3.0.3\n",
    "* torchtext==0.6.0"
   ]
  },
  {
   "cell_type": "markdown",
   "metadata": {
    "id": "aJSCPavXXWqz"
   },
   "source": [
    "## Import"
   ]
  },
  {
   "cell_type": "code",
   "execution_count": 31,
   "metadata": {
    "executionInfo": {
     "elapsed": 734,
     "status": "ok",
     "timestamp": 1614414802753,
     "user": {
      "displayName": "义云",
      "photoUrl": "",
      "userId": "00944396917142299573"
     },
     "user_tz": -480
    },
    "id": "dwiSrbYnXWq0"
   },
   "outputs": [],
   "source": [
    "import torch\n",
    "from torchtext import datasets\n",
    "from torchtext import data\n",
    "import numpy as np\n",
    "import random\n",
    "from torch import nn,optim\n",
    "from sklearn import metrics\n",
    "import torch.nn.functional as F\n",
    "\n",
    "use_cuda=torch.cuda.is_available()\n",
    "device=torch.device(\"cuda\" if use_cuda else \"cpu\")"
   ]
  },
  {
   "cell_type": "markdown",
   "metadata": {
    "id": "HyFvA66KXWq0"
   },
   "source": [
    "## 供调整的参数"
   ]
  },
  {
   "cell_type": "code",
   "execution_count": 39,
   "metadata": {
    "executionInfo": {
     "elapsed": 942,
     "status": "ok",
     "timestamp": 1614415802997,
     "user": {
      "displayName": "义云",
      "photoUrl": "",
      "userId": "00944396917142299573"
     },
     "user_tz": -480
    },
    "id": "wS8cEXVvXWq1"
   },
   "outputs": [],
   "source": [
    "lr=1e-3\n",
    "bs=64\n",
    "d_embed=100\n",
    "d_hidden=256\n",
    "d_output=2\n",
    "dropout=0.0\n",
    "max_epochs=10\n",
    "require_improvement=1"
   ]
  },
  {
   "cell_type": "markdown",
   "metadata": {
    "id": "cr7-Kb3zXWq1"
   },
   "source": [
    "## 数据载入和处理\n",
    "\n",
    "在载入和处理数据部分采用了torchtext库。"
   ]
  },
  {
   "cell_type": "code",
   "execution_count": 8,
   "metadata": {
    "colab": {
     "base_uri": "https://localhost:8080/"
    },
    "executionInfo": {
     "elapsed": 1305877,
     "status": "ok",
     "timestamp": 1614414156195,
     "user": {
      "displayName": "义云",
      "photoUrl": "",
      "userId": "00944396917142299573"
     },
     "user_tz": -480
    },
    "id": "1s72npWTXWq2",
    "outputId": "4b199e2f-9b79-40b8-af0c-da9f04530556"
   },
   "outputs": [
    {
     "name": "stderr",
     "output_type": "stream",
     "text": [
      "\r",
      "aclImdb_v1.tar.gz:   0%|          | 0.00/84.1M [00:00<?, ?B/s]"
     ]
    },
    {
     "name": "stdout",
     "output_type": "stream",
     "text": [
      "downloading aclImdb_v1.tar.gz\n"
     ]
    },
    {
     "name": "stderr",
     "output_type": "stream",
     "text": [
      "aclImdb_v1.tar.gz: 100%|██████████| 84.1M/84.1M [00:04<00:00, 20.5MB/s]\n"
     ]
    }
   ],
   "source": [
    "TEXT=data.Field(tokenize='spacy',tokenizer_language=\"en_core_web_sm\",batch_first=True)\n",
    "LABEL=data.LabelField(dtype=torch.long)\n",
    "train_data,test_data=datasets.IMDB.splits(TEXT,LABEL)"
   ]
  },
  {
   "cell_type": "markdown",
   "metadata": {
    "id": "Y1AhFvm4XWq2"
   },
   "source": [
    "在这里可能会遇到报错，提示不能载入*en_core_web_sm*。\n",
    "\n",
    "输入命令（需要翻墙）即可解决\n",
    "> python -m spacy download en_core_web_sm\n",
    "\n",
    "**下面展示样本数量和一个样本。**"
   ]
  },
  {
   "cell_type": "code",
   "execution_count": 10,
   "metadata": {
    "colab": {
     "base_uri": "https://localhost:8080/"
    },
    "executionInfo": {
     "elapsed": 900,
     "status": "ok",
     "timestamp": 1614414345153,
     "user": {
      "displayName": "义云",
      "photoUrl": "",
      "userId": "00944396917142299573"
     },
     "user_tz": -480
    },
    "id": "RcNJ6HMxXWq2",
    "outputId": "aec64b98-2b5b-4501-8002-b30136bc4bd9"
   },
   "outputs": [
    {
     "name": "stdout",
     "output_type": "stream",
     "text": [
      "Number of training examples: 25000\n",
      "Number of testing examples: 25000\n",
      "['Zentropa', 'has', 'much', 'in', 'common', 'with', 'The', 'Third', 'Man', ',', 'another', 'noir', '-', 'like', 'film', 'set', 'among', 'the', 'rubble', 'of', 'postwar', 'Europe', '.', 'Like', 'TTM', ',', 'there', 'is', 'much', 'inventive', 'camera', 'work', '.', 'There', 'is', 'an', 'innocent', 'American', 'who', 'gets', 'emotionally', 'involved', 'with', 'a', 'woman', 'he', 'does', \"n't\", 'really', 'understand', ',', 'and', 'whose', 'naivety', 'is', 'all', 'the', 'more', 'striking', 'in', 'contrast', 'with', 'the', 'natives.<br', '/><br', '/>But', 'I', \"'d\", 'have', 'to', 'say', 'that', 'The', 'Third', 'Man', 'has', 'a', 'more', 'well', '-', 'crafted', 'storyline', '.', 'Zentropa', 'is', 'a', 'bit', 'disjointed', 'in', 'this', 'respect', '.', 'Perhaps', 'this', 'is', 'intentional', ':', 'it', 'is', 'presented', 'as', 'a', 'dream', '/', 'nightmare', ',', 'and', 'making', 'it', 'too', 'coherent', 'would', 'spoil', 'the', 'effect', '.', '<', 'br', '/><br', '/>This', 'movie', 'is', 'unrelentingly', 'grim--\"noir', '\"', 'in', 'more', 'than', 'one', 'sense', ';', 'one', 'never', 'sees', 'the', 'sun', 'shine', '.', 'Grim', ',', 'but', 'intriguing', ',', 'and', 'frightening', '.']\n"
     ]
    }
   ],
   "source": [
    "print(f'Number of training examples: {len(train_data)}')\n",
    "print(f'Number of testing examples: {len(test_data)}')\n",
    "print(vars(train_data.examples[0])['text'])"
   ]
  },
  {
   "cell_type": "markdown",
   "metadata": {
    "id": "adpCmyEPXWq3"
   },
   "source": [
    "有25000个训练样本和25000个测试样本，尽管这个数量比不太符合要求，但是这个任务比较简单，我们就这么来。\n",
    "\n",
    "一个样本是一个字典的形式，'text'中含有分词完毕的单词列表，'label'中含其标签（pos或neg）。\n",
    "\n",
    "**下面我们需要把训练样本中再分一些出来作为验证集。**"
   ]
  },
  {
   "cell_type": "code",
   "execution_count": 11,
   "metadata": {
    "colab": {
     "base_uri": "https://localhost:8080/"
    },
    "executionInfo": {
     "elapsed": 880,
     "status": "ok",
     "timestamp": 1614414353129,
     "user": {
      "displayName": "义云",
      "photoUrl": "",
      "userId": "00944396917142299573"
     },
     "user_tz": -480
    },
    "id": "UAoPnEQdXWq4",
    "outputId": "b1f2d1a2-b9e9-4803-e4a4-523fe73afa1b"
   },
   "outputs": [
    {
     "name": "stdout",
     "output_type": "stream",
     "text": [
      "Number of training examples: 20000\n",
      "Number of validation examples: 5000\n",
      "Number of testing examples: 25000\n"
     ]
    }
   ],
   "source": [
    "#确保每次分割相同\n",
    "SEED = 1234\n",
    "np.random.seed(SEED)\n",
    "random.seed(SEED)\n",
    "torch.manual_seed(SEED)\n",
    "if use_cuda:\n",
    "    torch.cuda.manual_seed(SEED)\n",
    "    \n",
    "train_data,valid_data=train_data.split(split_ratio=0.8)\n",
    "\n",
    "print(f'Number of training examples: {len(train_data)}')\n",
    "print(f'Number of validation examples: {len(valid_data)}')\n",
    "print(f'Number of testing examples: {len(test_data)}')"
   ]
  },
  {
   "cell_type": "markdown",
   "metadata": {
    "id": "puG1JBfGXWq4"
   },
   "source": [
    "**下面我们需要建立字典**"
   ]
  },
  {
   "cell_type": "code",
   "execution_count": 12,
   "metadata": {
    "colab": {
     "base_uri": "https://localhost:8080/"
    },
    "executionInfo": {
     "elapsed": 1838,
     "status": "ok",
     "timestamp": 1614414359015,
     "user": {
      "displayName": "义云",
      "photoUrl": "",
      "userId": "00944396917142299573"
     },
     "user_tz": -480
    },
    "id": "WEefVjpaXWq5",
    "outputId": "78cb80ec-dc4e-4ec9-8728-818e619fc3cd"
   },
   "outputs": [
    {
     "name": "stdout",
     "output_type": "stream",
     "text": [
      "Unique tokens in TEXT vocabulary: 108710\n",
      "Unique tokens in LABEL vocabulary: 2\n",
      "最频繁的20个单词：\n",
      "[('the', 232441), (',', 221500), ('.', 189750), ('and', 125690), ('a', 125534), ('of', 115490), ('to', 107557), ('is', 87581), ('in', 70216), ('I', 62190), ('it', 61399), ('that', 56406), ('\"', 50837), (\"'s\", 49935), ('this', 48384), ('-', 43188), ('/><br', 40664), ('was', 39911), ('as', 34825), ('with', 34402)]\n"
     ]
    }
   ],
   "source": [
    "TEXT.build_vocab(train_data)\n",
    "LABEL.build_vocab(train_data)\n",
    "\n",
    "d_vocab=len(TEXT.vocab)\n",
    "print(f\"Unique tokens in TEXT vocabulary: {len(TEXT.vocab)}\")\n",
    "print(f\"Unique tokens in LABEL vocabulary: {len(LABEL.vocab)}\")\n",
    "\n",
    "print('最频繁的20个单词：')\n",
    "print(TEXT.vocab.freqs.most_common(20))"
   ]
  },
  {
   "cell_type": "markdown",
   "metadata": {
    "id": "7qFlMGk2XWq5"
   },
   "source": [
    "测试和验证文本中可能出现训练集中没有的单词，另外在训练时为了满足批量输入需要将所有或一个批次的文本长度对齐，因此上述字典的建立中会自动加入特殊标记_&lt;unk&gt;_ 和*&lt;pad&gt;* ，用来表示未知字符和填充字符。\n",
    "\n",
    "字典长度比较大，可能需要去除一些，或者使用预训练词向量初始化。\n",
    "\n",
    "**下面我们需要建立迭代器**"
   ]
  },
  {
   "cell_type": "code",
   "execution_count": 22,
   "metadata": {
    "colab": {
     "base_uri": "https://localhost:8080/"
    },
    "executionInfo": {
     "elapsed": 814,
     "status": "ok",
     "timestamp": 1614414561073,
     "user": {
      "displayName": "义云",
      "photoUrl": "",
      "userId": "00944396917142299573"
     },
     "user_tz": -480
    },
    "id": "vl5xshlgXWq6",
    "outputId": "b779f766-6037-420a-ee2e-888a1bb5185d"
   },
   "outputs": [
    {
     "name": "stdout",
     "output_type": "stream",
     "text": [
      "torch.Size([64, 1084])\n",
      "tensor([[   66,    14,    24,  ...,     1,     1,     1],\n",
      "        [70935,    17,    13,  ...,     1,     1,     1],\n",
      "        [  597,  1878, 13864,  ...,     1,     1,     1],\n",
      "        ...,\n",
      "        [   11,    77,   826,  ...,     1,     1,     1],\n",
      "        [ 4839,    16,    29,  ...,     1,     1,     1],\n",
      "        [   11, 12494,     8,  ...,     1,     1,     1]], device='cuda:0')\n"
     ]
    }
   ],
   "source": [
    "train_iterator, valid_iterator, test_iterator =data.BucketIterator.splits(\n",
    "    (train_data,valid_data,test_data),\n",
    "    batch_size=bs,device=device,shuffle=True)\n",
    "\n",
    "#测试\n",
    "for x in train_iterator:\n",
    "    print(x.text.shape)\n",
    "    print(x.text)\n",
    "    break"
   ]
  },
  {
   "cell_type": "markdown",
   "metadata": {
    "id": "FrUp9HMEXWq6"
   },
   "source": [
    "值得注意的是，**迭代器中的文本已经被转换成了序号**，torchtext内部具体怎么实现的不清楚。\n"
   ]
  },
  {
   "cell_type": "markdown",
   "metadata": {
    "id": "ti6yAeU0XWq7"
   },
   "source": [
    "## Model\n",
    "\n",
    "定义一个LSTM模型。"
   ]
  },
  {
   "cell_type": "code",
   "execution_count": 40,
   "metadata": {
    "colab": {
     "base_uri": "https://localhost:8080/"
    },
    "executionInfo": {
     "elapsed": 838,
     "status": "ok",
     "timestamp": 1614415828817,
     "user": {
      "displayName": "义云",
      "photoUrl": "",
      "userId": "00944396917142299573"
     },
     "user_tz": -480
    },
    "id": "HKPyL0i3XWq7",
    "outputId": "69ca7256-329c-48b6-d1bb-4f82563e48d2"
   },
   "outputs": [
    {
     "name": "stdout",
     "output_type": "stream",
     "text": [
      "simple_rnn(\n",
      "  (embed): Embedding(108710, 100)\n",
      "  (rnn): LSTM(100, 256, batch_first=True)\n",
      "  (fc): Linear(in_features=256, out_features=2, bias=True)\n",
      "  (dropout): Dropout(p=0.0, inplace=False)\n",
      ")\n"
     ]
    }
   ],
   "source": [
    "class simple_rnn(nn.Module):\n",
    "    \n",
    "    def __init__(self,d_vocab: int,d_embed:int ,d_hidden:int ,dropout:float,d_output:int,vectors=None):\n",
    "        super(simple_rnn, self).__init__()\n",
    "\n",
    "        self.d_hidden=d_hidden\n",
    "        self.embed=nn.Embedding(d_vocab,d_embed)\n",
    "        self.rnn=nn.LSTM(d_embed,d_hidden,batch_first=True)\n",
    "        self.fc=nn.Linear(d_hidden,d_output)\n",
    "        self.dropout=nn.Dropout(dropout)\n",
    "\n",
    "        #self.init_weight(vectors)\n",
    "\n",
    "    def init_weight(self,vectors=None):\n",
    "        if vectors is not None:\n",
    "            self.embed.weight.data.copy_(vectors)\n",
    "            \n",
    "        initrange=0.1\n",
    "        self.fc.weight.data.uniform_(-initrange,initrange)\n",
    "        \n",
    "    def forward(self,x,hidden=None):\n",
    "        # input:(bs,1ength)\n",
    "        \n",
    "        embeded=self.dropout(self.embed(x)) #(bs,length,d_embed)\n",
    "        \n",
    "        if hidden is not None:\n",
    "            output,hidden=self.rnn(embeded,hidden)\n",
    "        else:\n",
    "            output,(hidden,_)=self.rnn(embeded)\n",
    "        #output:(bs,length,d_hidden)\n",
    "        #hidden:(batch,1,d_hidden)\n",
    "\n",
    "        assert torch.equal(output[:,-1,:],hidden.squeeze(0))\n",
    "\n",
    "        return self.fc(hidden.squeeze(0))#(batch,d_output)\n",
    "    \n",
    "model=simple_rnn(d_vocab,d_embed,d_hidden,dropout,d_output)\n",
    "print(model)\n",
    "if use_cuda:\n",
    "    model.cuda()"
   ]
  },
  {
   "cell_type": "markdown",
   "metadata": {
    "id": "L6MHib9-XWq7"
   },
   "source": [
    "测试一下能否跑通"
   ]
  },
  {
   "cell_type": "code",
   "execution_count": 28,
   "metadata": {
    "colab": {
     "base_uri": "https://localhost:8080/"
    },
    "executionInfo": {
     "elapsed": 810,
     "status": "ok",
     "timestamp": 1614414685184,
     "user": {
      "displayName": "义云",
      "photoUrl": "",
      "userId": "00944396917142299573"
     },
     "user_tz": -480
    },
    "id": "Ftn25lupXWq8",
    "outputId": "dd7f182c-50e4-4174-f1c5-1f7e95872643"
   },
   "outputs": [
    {
     "name": "stdout",
     "output_type": "stream",
     "text": [
      "torch.int64\n",
      "torch.int64\n",
      "torch.Size([64, 2])\n"
     ]
    }
   ],
   "source": [
    "optimizer = optim.Adam(model.parameters(),lr=lr)\n",
    "criterion = nn.CrossEntropyLoss()\n",
    "if use_cuda:\n",
    "    criterion.cuda()\n",
    "with torch.no_grad():\n",
    "    for batch in train_iterator:\n",
    "        x=batch.text\n",
    "        y=batch.label\n",
    "        if use_cuda:\n",
    "            x.cuda()\n",
    "            y.cuda()\n",
    "        print(x.dtype)\n",
    "        print(y.dtype)\n",
    "        preds=model(x)\n",
    "        print(preds.shape)\n",
    "        criterion(preds,y)\n",
    "        break"
   ]
  },
  {
   "cell_type": "markdown",
   "metadata": {
    "id": "h6iqL6TAXWq8"
   },
   "source": [
    "## Training"
   ]
  },
  {
   "cell_type": "code",
   "execution_count": 34,
   "metadata": {
    "executionInfo": {
     "elapsed": 850,
     "status": "ok",
     "timestamp": 1614415014049,
     "user": {
      "displayName": "义云",
      "photoUrl": "",
      "userId": "00944396917142299573"
     },
     "user_tz": -480
    },
    "id": "lkcdocGlXWq8"
   },
   "outputs": [],
   "source": [
    "def train(model, train_iter, dev_iter, test_iter):\n",
    "    model.train()\n",
    "    optimizer = optim.Adam(model.parameters(),lr=lr)\n",
    "    criterion = nn.CrossEntropyLoss()\n",
    "    if use_cuda:\n",
    "        criterion.cuda()\n",
    "\n",
    "    # 学习率指数衰减，每次epoch：学习率 = gamma * 学习率\n",
    "    # scheduler = torch.optim.lr_scheduler.ExponentialLR(optimizer, gamma=0.9)\n",
    "    dev_best_loss = float('inf')\n",
    "    last_improve = 0  # 记录上次验证集loss下降的batch数\n",
    "    #writer = SummaryWriter(log_dir=config.log_path + '/' + time.strftime('%m-%d.%H.%M', time.localtime())+'_'+which_data+'_'+which_model+'_'+which_task+'_'+exp_number)\n",
    "    \n",
    "    for epoch in range(max_epochs):\n",
    "        train_loss=0\n",
    "        train_correct=0\n",
    "        # scheduler.step() # 学习率衰减\n",
    "        for i, batch in enumerate(train_iter):\n",
    "            optimizer.zero_grad()\n",
    "            x=batch.text\n",
    "            y=batch.label\n",
    "            if use_cuda:\n",
    "                x.cuda()\n",
    "                y.cuda()\n",
    "            outputs = model(x)\n",
    "            loss = criterion(outputs, y)\n",
    "            loss.backward()\n",
    "            optimizer.step()\n",
    "            #训练集的准确率\n",
    "            true = y.data.cpu()\n",
    "            preds = torch.max(outputs.data, 1)[1].cpu()\n",
    "            train_correct+=(true==preds).sum()\n",
    "            train_loss+=loss.item()\n",
    "        train_loss/=len(train_iterator)   #train_loss\n",
    "        train_acc=train_correct/len(train_iterator.dataset)   #train_acc\n",
    "            \n",
    "        #验证集\n",
    "        dev_acc, dev_loss = evaluate(model, dev_iter)\n",
    "        if dev_loss < dev_best_loss:\n",
    "            dev_best_loss = dev_loss\n",
    "            improve = '*'\n",
    "            last_improve=epoch\n",
    "        else:\n",
    "            improve = ''\n",
    "        msg = 'Epoch: {0:>6},  Train Loss: {1:>5.2},  Train Acc: {2:>6.2%},  Val Loss: {3:>5.2},  Val Acc: {4:>6.2%} {5}'\n",
    "        print(msg.format(epoch+1, train_loss, train_acc, dev_loss, dev_acc, improve))\n",
    "        #writer.add_scalar(\"loss/train\", loss.item(), total_batch)\n",
    "        #writer.add_scalar(\"loss/dev\", dev_loss, total_batch)\n",
    "        #writer.add_scalar(\"acc/train\", train_acc, total_batch)\n",
    "        #writer.add_scalar(\"acc/dev\", dev_acc, total_batch)\n",
    "\n",
    "        if epoch - last_improve > require_improvement:\n",
    "            # 验证集loss超过1epoch没下降，结束训练\n",
    "            print(\"No optimization for a long time, auto-stopping...\")\n",
    "            break\n",
    "    #writer.close()\n",
    "    test(model, test_iter)\n",
    "\n",
    "def evaluate(model, data_iter, test=False):\n",
    "    model.eval()\n",
    "    loss_total = 0\n",
    "    predict_all = np.array([], dtype=int)\n",
    "    labels_all = np.array([], dtype=int)\n",
    "    with torch.no_grad():\n",
    "        for batch in data_iter:\n",
    "            x=batch.text\n",
    "            labels=batch.label\n",
    "            if use_cuda:\n",
    "                x.cuda()\n",
    "                labels.cuda()\n",
    "            outputs = model(x)\n",
    "            loss = F.cross_entropy(outputs, labels)\n",
    "            loss_total += loss\n",
    "            labels = labels.data.cpu().numpy()\n",
    "            predic = torch.max(outputs.data, 1)[1].cpu().numpy()\n",
    "            labels_all = np.append(labels_all, labels)\n",
    "            predict_all = np.append(predict_all, predic)\n",
    "    model.train()\n",
    "    acc = metrics.accuracy_score(labels_all, predict_all)\n",
    "    \n",
    "    if test:\n",
    "        report = metrics.classification_report(labels_all, predict_all, labels=[0,1],target_names=['pos','neg'], digits=4,output_dict=True)\n",
    "        confusion = metrics.confusion_matrix(labels_all, predict_all)\n",
    "        return acc, loss_total / len(data_iter), report, confusion\n",
    "    \n",
    "    return acc, loss_total / len(data_iter)\n",
    "\n",
    "\n",
    "def test(model, test_iter):\n",
    "    test_acc, test_loss, test_report, test_confusion = evaluate(model, test_iter, test=True)\n",
    "    msg = 'Test Loss: {0:>5.2},  Test Acc: {1:>6.2%}'\n",
    "    print(msg.format(test_loss, test_acc))\n",
    "    print(\"Precision, Recall and F1-Score...\")\n",
    "    print(test_report)\n",
    "    print(\"Confusion Matrix...\")\n",
    "    print(test_confusion)"
   ]
  },
  {
   "cell_type": "code",
   "execution_count": 35,
   "metadata": {
    "colab": {
     "base_uri": "https://localhost:8080/"
    },
    "executionInfo": {
     "elapsed": 124162,
     "status": "ok",
     "timestamp": 1614415140030,
     "user": {
      "displayName": "义云",
      "photoUrl": "",
      "userId": "00944396917142299573"
     },
     "user_tz": -480
    },
    "id": "T-MB93XvnWdP",
    "outputId": "b13e9af9-5bdf-4df9-96cb-40991981c939"
   },
   "outputs": [
    {
     "name": "stdout",
     "output_type": "stream",
     "text": [
      "Epoch:      1,  Train Loss:  0.69,  Train Acc: 50.34%,  Val Loss:   0.7,  Val Acc: 50.94% *\n",
      "Epoch:      2,  Train Loss:  0.69,  Train Acc: 49.79%,  Val Loss:   0.7,  Val Acc: 52.42% *\n",
      "Epoch:      3,  Train Loss:  0.69,  Train Acc: 50.13%,  Val Loss:  0.71,  Val Acc: 51.92% \n",
      "Epoch:      4,  Train Loss:  0.69,  Train Acc: 50.41%,  Val Loss:  0.71,  Val Acc: 54.28% \n",
      "No optimization for a long time, auto-stopping...\n",
      "Test Loss:   0.8,  Test Acc: 53.72%\n",
      "Precision, Recall and F1-Score...\n",
      "{'pos': {'precision': 0.540250756593169, 'recall': 0.49984, 'f1-score': 0.5192603365884064, 'support': 12500}, 'neg': {'precision': 0.5346483066617045, 'recall': 0.57464, 'f1-score': 0.5539232697127434, 'support': 12500}, 'accuracy': 0.53724, 'macro avg': {'precision': 0.5374495316274368, 'recall': 0.53724, 'f1-score': 0.536591803150575, 'support': 25000}, 'weighted avg': {'precision': 0.5374495316274367, 'recall': 0.53724, 'f1-score': 0.536591803150575, 'support': 25000}}\n",
      "Confusion Matrix...\n",
      "[[6248 6252]\n",
      " [5317 7183]]\n"
     ]
    }
   ],
   "source": [
    "#lr=1e-3\n",
    "train(model,train_iterator,valid_iterator,test_iterator)"
   ]
  },
  {
   "cell_type": "code",
   "execution_count": 38,
   "metadata": {
    "colab": {
     "base_uri": "https://localhost:8080/"
    },
    "executionInfo": {
     "elapsed": 94561,
     "status": "ok",
     "timestamp": 1614415383819,
     "user": {
      "displayName": "义云",
      "photoUrl": "",
      "userId": "00944396917142299573"
     },
     "user_tz": -480
    },
    "id": "Kj2jzRtOpfa6",
    "outputId": "0a6af5cd-f6de-460f-a8c7-1691265188d5"
   },
   "outputs": [
    {
     "name": "stdout",
     "output_type": "stream",
     "text": [
      "Epoch:      1,  Train Loss:  0.69,  Train Acc: 49.44%,  Val Loss:  0.69,  Val Acc: 49.88% *\n",
      "Epoch:      2,  Train Loss:  0.69,  Train Acc: 50.35%,  Val Loss:  0.69,  Val Acc: 50.76% \n",
      "Epoch:      3,  Train Loss:  0.69,  Train Acc: 50.18%,  Val Loss:  0.69,  Val Acc: 50.18% \n",
      "No optimization for a long time, auto-stopping...\n",
      "Test Loss:  0.69,  Test Acc: 50.06%\n",
      "Precision, Recall and F1-Score...\n",
      "{'pos': {'precision': 0.5018676627534685, 'recall': 0.15048, 'f1-score': 0.23153618906942391, 'support': 12500}, 'neg': {'precision': 0.5003293807641633, 'recall': 0.85064, 'f1-score': 0.6300663664375443, 'support': 12500}, 'accuracy': 0.50056, 'macro avg': {'precision': 0.501098521758816, 'recall': 0.50056, 'f1-score': 0.4308012777534841, 'support': 25000}, 'weighted avg': {'precision': 0.5010985217588159, 'recall': 0.50056, 'f1-score': 0.43080127775348415, 'support': 25000}}\n",
      "Confusion Matrix...\n",
      "[[ 1881 10619]\n",
      " [ 1867 10633]]\n"
     ]
    }
   ],
   "source": [
    "#lr=1e-4\n",
    "train(model,train_iterator,valid_iterator,test_iterator)"
   ]
  },
  {
   "cell_type": "code",
   "execution_count": 41,
   "metadata": {
    "colab": {
     "base_uri": "https://localhost:8080/"
    },
    "executionInfo": {
     "elapsed": 125278,
     "status": "ok",
     "timestamp": 1614415962115,
     "user": {
      "displayName": "义云",
      "photoUrl": "",
      "userId": "00944396917142299573"
     },
     "user_tz": -480
    },
    "id": "v6dE7x5trlR3",
    "outputId": "8105be3c-d930-4307-b5a0-cd3e53c8af8a"
   },
   "outputs": [
    {
     "name": "stdout",
     "output_type": "stream",
     "text": [
      "Epoch:      1,  Train Loss:  0.69,  Train Acc: 49.61%,  Val Loss:  0.69,  Val Acc: 49.56% *\n",
      "Epoch:      2,  Train Loss:  0.69,  Train Acc: 50.21%,  Val Loss:  0.69,  Val Acc: 51.24% *\n",
      "Epoch:      3,  Train Loss:  0.69,  Train Acc: 49.29%,  Val Loss:   0.7,  Val Acc: 49.90% \n",
      "Epoch:      4,  Train Loss:  0.69,  Train Acc: 49.94%,  Val Loss:  0.69,  Val Acc: 50.38% \n",
      "No optimization for a long time, auto-stopping...\n",
      "Test Loss:  0.68,  Test Acc: 52.64%\n",
      "Precision, Recall and F1-Score...\n",
      "{'pos': {'precision': 0.5794933655006032, 'recall': 0.19216, 'f1-score': 0.2886151997596876, 'support': 12500}, 'neg': {'precision': 0.5157995684488133, 'recall': 0.86056, 'f1-score': 0.6450007495128167, 'support': 12500}, 'accuracy': 0.52636, 'macro avg': {'precision': 0.5476464669747082, 'recall': 0.5263599999999999, 'f1-score': 0.4668079746362521, 'support': 25000}, 'weighted avg': {'precision': 0.5476464669747082, 'recall': 0.52636, 'f1-score': 0.4668079746362521, 'support': 25000}}\n",
      "Confusion Matrix...\n",
      "[[ 2402 10098]\n",
      " [ 1743 10757]]\n"
     ]
    }
   ],
   "source": [
    "#dropout=0\n",
    "train(model,train_iterator,valid_iterator,test_iterator)"
   ]
  },
  {
   "cell_type": "markdown",
   "metadata": {
    "id": "1VRwk9VjokWP"
   },
   "source": [
    "## Results and Analysis\n",
    "\n",
    "可以看到训练的效果相当差，这与所参照的博客一致，思考可能由以下原因导致：\n",
    "* 文本长度没有处理，有过长的文本\n",
    "* 没有使用pack pad等操作\n",
    "\n",
    "除此之外，还将在后续进行以下优化：\n",
    "* 对任务的文本长度进行分析\n",
    "* 使用预训练词向量\n",
    "* 调整dropout\n",
    "* 调整momentum"
   ]
  },
  {
   "cell_type": "code",
   "execution_count": null,
   "metadata": {},
   "outputs": [],
   "source": []
  }
 ],
 "metadata": {
  "accelerator": "GPU",
  "colab": {
   "collapsed_sections": [],
   "name": "IMDB_LSTM.ipynb",
   "provenance": [],
   "toc_visible": true
  },
  "kernelspec": {
   "display_name": "Python 3",
   "language": "python",
   "name": "python3"
  },
  "language_info": {
   "codemirror_mode": {
    "name": "ipython",
    "version": 3
   },
   "file_extension": ".py",
   "mimetype": "text/x-python",
   "name": "python",
   "nbconvert_exporter": "python",
   "pygments_lexer": "ipython3",
   "version": "3.7.4"
  }
 },
 "nbformat": 4,
 "nbformat_minor": 1
}
